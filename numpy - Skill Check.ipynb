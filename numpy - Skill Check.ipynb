{
 "cells": [
  {
   "cell_type": "markdown",
   "metadata": {},
   "source": [
    "CREDIT TO ERDOS INSTITUTE, borrowed from them\n",
    "# `numpy` - Skill Check\n",
    "\n",
    "If you can solve the problems in this notebook without much difficulty you're good to go for our course!"
   ]
  },
  {
   "cell_type": "code",
   "execution_count": 1,
   "metadata": {},
   "outputs": [],
   "source": [
    "import numpy as np"
   ]
  },
  {
   "cell_type": "markdown",
   "metadata": {},
   "source": [
    "#### Problem 1\n",
    "\n",
    "In a random walk a person starts at $0$ on a number line then flips a coin. If the coin is heads they take one step in the positive direction. If the coin is tails they take one step in the negative direction. This process lasts for $n$ steps.\n",
    "\n",
    "Using `numpy` write a function to generate the coin flip outcomes and random walk path."
   ]
  },
  {
   "cell_type": "code",
   "execution_count": 2,
   "metadata": {},
   "outputs": [
    {
     "name": "stdout",
     "output_type": "stream",
     "text": [
      "20\n"
     ]
    }
   ],
   "source": [
    "## Code here\n",
    "def random_walk(n_steps):\n",
    "    coin_flips_array=[]\n",
    "    while n_steps>0:\n",
    "        coin_flip=np.random.random()\n",
    "        coin_flips_array.append(coin_flip)\n",
    "        n_steps-=1\n",
    "    array=np.array(coin_flips_array)\n",
    "    maxes=array[array>0.5]\n",
    "    mins=array[array<=0.5]\n",
    "    return (len(maxes)-len(mins))\n",
    "p=random_walk(88)\n",
    "print(p)\n",
    "\n",
    "\n",
    "\n"
   ]
  },
  {
   "cell_type": "code",
   "execution_count": 3,
   "metadata": {},
   "outputs": [],
   "source": [
    "## Code here\n",
    "\n",
    "\n",
    "\n",
    "\n",
    "\n",
    "\n",
    "\n",
    "\n"
   ]
  },
  {
   "cell_type": "code",
   "execution_count": 4,
   "metadata": {},
   "outputs": [],
   "source": [
    "## Code here\n",
    "\n",
    "\n",
    "\n",
    "\n",
    "\n",
    "\n",
    "\n",
    "\n"
   ]
  },
  {
   "cell_type": "markdown",
   "metadata": {},
   "source": [
    "#### Problem 2\n",
    "\n",
    "In linear regression you have a matrix $X$ of feature columns with a column of $1$s as the first column and a column vector $y$ of target values. You can then calculate the regression coefficients by calculating:\n",
    "$$\n",
    "(X^T X)^{-1}X^T y\n",
    "$$\n",
    "\n",
    "Write a function using `numpy` that calculates the coefficient vector when given $X$ and $y$.\n",
    "\n",
    "Then find the coefficient vector for the following $X$ and $y$"
   ]
  },
  {
   "cell_type": "code",
   "execution_count": 5,
   "metadata": {},
   "outputs": [
    {
     "name": "stdout",
     "output_type": "stream",
     "text": [
      "(500, 5)\n"
     ]
    }
   ],
   "source": [
    "X = np.concatenate([np.ones((500,1)),np.random.randn(500,4)], axis = 1)\n",
    "print(np.shape(X))\n",
    "y = X.dot(np.array([2,3,2,1,7]).reshape(-1,1)) + .25*np.random.randn(500,1)\n",
    "from numpy.linalg import inv, eig, det"
   ]
  },
  {
   "cell_type": "code",
   "execution_count": 6,
   "metadata": {},
   "outputs": [
    {
     "ename": "NameError",
     "evalue": "name 'calc_XT' is not defined",
     "output_type": "error",
     "traceback": [
      "\u001b[0;31m---------------------------------------------------------------------------\u001b[0m",
      "\u001b[0;31mNameError\u001b[0m                                 Traceback (most recent call last)",
      "Input \u001b[0;32mIn [6]\u001b[0m, in \u001b[0;36m<cell line: 9>\u001b[0;34m()\u001b[0m\n\u001b[1;32m      6\u001b[0m     x_dot\u001b[38;5;241m=\u001b[39mx_mult_inv\u001b[38;5;241m.\u001b[39mdot(xt) \u001b[38;5;66;03m#(xtx)-1xt\u001b[39;00m\n\u001b[1;32m      7\u001b[0m     \u001b[38;5;28;01mreturn\u001b[39;00m x_dot\u001b[38;5;241m.\u001b[39mdot(y_orig)\n\u001b[0;32m----> 9\u001b[0m \u001b[38;5;28mprint\u001b[39m(\u001b[43mcalc_all\u001b[49m\u001b[43m(\u001b[49m\u001b[43mX\u001b[49m\u001b[43m,\u001b[49m\u001b[43my\u001b[49m\u001b[43m)\u001b[49m)\n",
      "Input \u001b[0;32mIn [6]\u001b[0m, in \u001b[0;36mcalc_all\u001b[0;34m(x_orig, y_orig)\u001b[0m\n\u001b[1;32m      2\u001b[0m \u001b[38;5;28;01mdef\u001b[39;00m \u001b[38;5;21mcalc_all\u001b[39m(x_orig, y_orig):\n\u001b[0;32m----> 3\u001b[0m     xt\u001b[38;5;241m=\u001b[39m\u001b[43mcalc_XT\u001b[49m(x_orig)  \u001b[38;5;66;03m#xT\u001b[39;00m\n\u001b[1;32m      4\u001b[0m     x_mult\u001b[38;5;241m=\u001b[39mxt\u001b[38;5;241m.\u001b[39mdot(x_orig)  \u001b[38;5;66;03m#xtx\u001b[39;00m\n\u001b[1;32m      5\u001b[0m     x_mult_inv\u001b[38;5;241m=\u001b[39minv(x_mult) \u001b[38;5;66;03m#(xtx)-1\u001b[39;00m\n",
      "\u001b[0;31mNameError\u001b[0m: name 'calc_XT' is not defined"
     ]
    }
   ],
   "source": [
    "## Code here\n",
    "def calc_all(x_orig, y_orig):\n",
    "    xt=calc_XT(x_orig)  #xT\n",
    "    x_mult=xt.dot(x_orig)  #xtx\n",
    "    x_mult_inv=inv(x_mult) #(xtx)-1\n",
    "    x_dot=x_mult_inv.dot(xt) #(xtx)-1xt\n",
    "    return x_dot.dot(y_orig)\n",
    "\n",
    "print(calc_all(X,y))\n",
    "\n",
    "\n",
    "\n",
    "\n",
    "\n"
   ]
  },
  {
   "cell_type": "code",
   "execution_count": null,
   "metadata": {},
   "outputs": [],
   "source": [
    "## Code here\n",
    "\n",
    "\n",
    "\n",
    "\n",
    "\n",
    "\n",
    "\n",
    "\n"
   ]
  },
  {
   "cell_type": "code",
   "execution_count": null,
   "metadata": {},
   "outputs": [],
   "source": [
    "## Code here\n",
    "\n",
    "\n",
    "\n",
    "\n",
    "\n",
    "\n",
    "\n",
    "\n"
   ]
  },
  {
   "cell_type": "markdown",
   "metadata": {},
   "source": [
    "#### Problem 3\n",
    "\n",
    "Write a function that takes in an ndarray and computes the proportion of entries that are nonnegative."
   ]
  },
  {
   "cell_type": "code",
   "execution_count": null,
   "metadata": {},
   "outputs": [],
   "source": [
    "## Code here\n",
    "example=np.random.randn(20,3,5)\n",
    "print(example)\n",
    "def frac_non_negatives(arr):\n",
    "    nneg=arr[arr>=0]\n",
    "    #arr.size total number of entries\n",
    "    #len(nneg) # total number of entries greater than or equal to zero\n",
    "    print(len(nneg)/arr.size)\n",
    "frac_non_negatives(example)\n",
    "\n",
    "\n",
    "\n",
    "\n",
    "\n",
    "\n",
    "\n"
   ]
  },
  {
   "cell_type": "code",
   "execution_count": null,
   "metadata": {},
   "outputs": [],
   "source": [
    "## Code here\n",
    "test_array=np.ones((100,3))\n",
    "test_array[:,0]=np.linspace(0,10,100)\n",
    "test_array[:,1]=np.linspace(0,50,100)\n",
    "test_array\n",
    "\n",
    "\n",
    "\n",
    "\n",
    "\n"
   ]
  },
  {
   "cell_type": "code",
   "execution_count": null,
   "metadata": {},
   "outputs": [],
   "source": []
  }
 ],
 "metadata": {
  "kernelspec": {
   "display_name": "Python 3 (ipykernel)",
   "language": "python",
   "name": "python3"
  },
  "language_info": {
   "codemirror_mode": {
    "name": "ipython",
    "version": 3
   },
   "file_extension": ".py",
   "mimetype": "text/x-python",
   "name": "python",
   "nbconvert_exporter": "python",
   "pygments_lexer": "ipython3",
   "version": "3.9.13"
  }
 },
 "nbformat": 4,
 "nbformat_minor": 4
}
