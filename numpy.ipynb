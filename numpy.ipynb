{
 "cells": [
  {
   "cell_type": "markdown",
   "metadata": {},
   "source": [
    "CREDIT TO ERDOS INSTITUTE, borrowed from them\n",
    "## Notebook Outcomes\n",
    "\n",
    "In this notebook we will learn:\n",
    "<ul>\n",
    "    <li>What is numpy and what is it good for</li> \n",
    "    <li>what are numpy arrays</li> \n",
    "    <li>functions on arrays</li> \n",
    "    <li>random number generation and stats</li> \n",
    "    <li>linear algebra</li>\n",
    "</ul>"
   ]
  },
  {
   "cell_type": "markdown",
   "metadata": {},
   "source": [
    "# `numpy`\n",
    "\n",
    "`numpy` is another very popular package in the world of data science and machine learning. It is short for Numerical Python, and is one of the most important foundational packages for numerical computing in `python`.\n",
    "\n",
    "Let's start off by importing the package."
   ]
  },
  {
   "cell_type": "code",
   "execution_count": 1,
   "metadata": {},
   "outputs": [],
   "source": [
    "# It is standard to import numpy as np\n",
    "import numpy as np"
   ]
  },
  {
   "cell_type": "markdown",
   "metadata": {},
   "source": [
    "### `numpy`'s ndarray\n",
    "\n",
    "The `numpy` data object is know as an `ndarray` it is similar to a list"
   ]
  },
  {
   "cell_type": "code",
   "execution_count": 2,
   "metadata": {},
   "outputs": [
    {
     "name": "stdout",
     "output_type": "stream",
     "text": [
      "[1 2 3 4]\n",
      "\n",
      "<class 'numpy.ndarray'>\n"
     ]
    }
   ],
   "source": [
    "# You can make an array with np.array\n",
    "array1 = np.array([1,2,3,4])\n",
    "print(array1)\n",
    "print()\n",
    "print(type(array1))"
   ]
  },
  {
   "cell_type": "markdown",
   "metadata": {},
   "source": [
    "but it can have any finite number dimensions."
   ]
  },
  {
   "cell_type": "code",
   "execution_count": 3,
   "metadata": {},
   "outputs": [
    {
     "name": "stdout",
     "output_type": "stream",
     "text": [
      "[[1 2]\n",
      " [2 1]]\n",
      "\n",
      "array2 is a (2, 2) ndarray\n"
     ]
    }
   ],
   "source": [
    "array2 = np.array([[1,2],[2,1]])\n",
    "print(array2)\n",
    "print()\n",
    "# np.shape() will give you the dimensions of the array\n",
    "# array2 is a 2 by 2 array\n",
    "print(\"array2 is a\",np.shape(array2),\"ndarray\")"
   ]
  },
  {
   "cell_type": "code",
   "execution_count": 4,
   "metadata": {},
   "outputs": [
    {
     "name": "stdout",
     "output_type": "stream",
     "text": [
      "[[[1 2]\n",
      "  [2 1]]\n",
      "\n",
      " [[2 3]\n",
      "  [3 2]]]\n",
      "\n",
      "array3 is a (2, 2, 2) ndarray\n"
     ]
    }
   ],
   "source": [
    "array3 = np.array([[[1,2],[2,1]],[[2,3],[3,2]]])\n",
    "print(array3)\n",
    "print()\n",
    "print(\"array3 is a\",np.shape(array3),\"ndarray\")"
   ]
  },
  {
   "cell_type": "markdown",
   "metadata": {},
   "source": [
    "We can keep going if we want to"
   ]
  },
  {
   "cell_type": "code",
   "execution_count": 5,
   "metadata": {},
   "outputs": [
    {
     "name": "stdout",
     "output_type": "stream",
     "text": [
      "[[[[1 2]\n",
      "   [2 1]]\n",
      "\n",
      "  [[2 3]\n",
      "   [3 2]]]\n",
      "\n",
      "\n",
      " [[[3 4]\n",
      "   [4 3]]\n",
      "\n",
      "  [[4 5]\n",
      "   [5 4]]]]\n",
      "\n",
      "array4 is a (2, 2, 2, 2) ndarray\n"
     ]
    }
   ],
   "source": [
    "## Practice\n",
    "## Make a 4 dimensional array and store it in array4\n",
    "array4 = np.array([[[[1,2],[2,1]],[[2,3],[3,2]]],[[[3,4],[4,3]],[[4,5],[5,4]]]])\n",
    "print(array4)\n",
    "print()\n",
    "print(\"array4 is a\",np.shape(array4),\"ndarray\")\n",
    "\n",
    "\n",
    "\n",
    "\n",
    "\n",
    "\n"
   ]
  },
  {
   "cell_type": "markdown",
   "metadata": {},
   "source": [
    "#### Other Array Generators\n",
    "\n",
    "As we've seen you can make arrays out of lists and lists of lists. There are also a number of built in array generators."
   ]
  },
  {
   "cell_type": "code",
   "execution_count": 6,
   "metadata": {},
   "outputs": [
    {
     "data": {
      "text/plain": [
       "array([[[2.10179953e-316, 0.00000000e+000],\n",
       "        [0.00000000e+000, 0.00000000e+000]],\n",
       "\n",
       "       [[0.00000000e+000, 0.00000000e+000],\n",
       "        [0.00000000e+000, 0.00000000e+000]]])"
      ]
     },
     "execution_count": 6,
     "metadata": {},
     "output_type": "execute_result"
    }
   ],
   "source": [
    "# We can make an empty array\n",
    "# np.empty(array_shape)\n",
    "np.empty((2,2,2))"
   ]
  },
  {
   "cell_type": "code",
   "execution_count": 7,
   "metadata": {},
   "outputs": [
    {
     "data": {
      "text/plain": [
       "array([1., 1., 1., 1., 1., 1., 1., 1., 1., 1., 1., 1.])"
      ]
     },
     "execution_count": 7,
     "metadata": {},
     "output_type": "execute_result"
    }
   ],
   "source": [
    "# We can make an array of all ones\n",
    "# np.ones(array_shape)\n",
    "np.ones(12)"
   ]
  },
  {
   "cell_type": "code",
   "execution_count": 8,
   "metadata": {},
   "outputs": [
    {
     "data": {
      "text/plain": [
       "array([[[0., 0., 0., 0.],\n",
       "        [0., 0., 0., 0.],\n",
       "        [0., 0., 0., 0.],\n",
       "        [0., 0., 0., 0.]],\n",
       "\n",
       "       [[0., 0., 0., 0.],\n",
       "        [0., 0., 0., 0.],\n",
       "        [0., 0., 0., 0.],\n",
       "        [0., 0., 0., 0.]],\n",
       "\n",
       "       [[0., 0., 0., 0.],\n",
       "        [0., 0., 0., 0.],\n",
       "        [0., 0., 0., 0.],\n",
       "        [0., 0., 0., 0.]],\n",
       "\n",
       "       [[0., 0., 0., 0.],\n",
       "        [0., 0., 0., 0.],\n",
       "        [0., 0., 0., 0.],\n",
       "        [0., 0., 0., 0.]]])"
      ]
     },
     "execution_count": 8,
     "metadata": {},
     "output_type": "execute_result"
    }
   ],
   "source": [
    "#  An array of zeros\n",
    "# np.zeros(array_shape)\n",
    "np.zeros((4,4,4))"
   ]
  },
  {
   "cell_type": "code",
   "execution_count": 9,
   "metadata": {},
   "outputs": [
    {
     "data": {
      "text/plain": [
       "array([0.        , 0.01010101, 0.02020202, 0.03030303, 0.04040404,\n",
       "       0.05050505, 0.06060606, 0.07070707, 0.08080808, 0.09090909,\n",
       "       0.1010101 , 0.11111111, 0.12121212, 0.13131313, 0.14141414,\n",
       "       0.15151515, 0.16161616, 0.17171717, 0.18181818, 0.19191919,\n",
       "       0.2020202 , 0.21212121, 0.22222222, 0.23232323, 0.24242424,\n",
       "       0.25252525, 0.26262626, 0.27272727, 0.28282828, 0.29292929,\n",
       "       0.3030303 , 0.31313131, 0.32323232, 0.33333333, 0.34343434,\n",
       "       0.35353535, 0.36363636, 0.37373737, 0.38383838, 0.39393939,\n",
       "       0.4040404 , 0.41414141, 0.42424242, 0.43434343, 0.44444444,\n",
       "       0.45454545, 0.46464646, 0.47474747, 0.48484848, 0.49494949,\n",
       "       0.50505051, 0.51515152, 0.52525253, 0.53535354, 0.54545455,\n",
       "       0.55555556, 0.56565657, 0.57575758, 0.58585859, 0.5959596 ,\n",
       "       0.60606061, 0.61616162, 0.62626263, 0.63636364, 0.64646465,\n",
       "       0.65656566, 0.66666667, 0.67676768, 0.68686869, 0.6969697 ,\n",
       "       0.70707071, 0.71717172, 0.72727273, 0.73737374, 0.74747475,\n",
       "       0.75757576, 0.76767677, 0.77777778, 0.78787879, 0.7979798 ,\n",
       "       0.80808081, 0.81818182, 0.82828283, 0.83838384, 0.84848485,\n",
       "       0.85858586, 0.86868687, 0.87878788, 0.88888889, 0.8989899 ,\n",
       "       0.90909091, 0.91919192, 0.92929293, 0.93939394, 0.94949495,\n",
       "       0.95959596, 0.96969697, 0.97979798, 0.98989899, 1.        ])"
      ]
     },
     "execution_count": 9,
     "metadata": {},
     "output_type": "execute_result"
    }
   ],
   "source": [
    "# a 1d array for an interval\n",
    "# np.linspace(start, end, number of entries)\n",
    "np.linspace(0,1,100)"
   ]
  },
  {
   "cell_type": "code",
   "execution_count": 10,
   "metadata": {},
   "outputs": [
    {
     "data": {
      "text/plain": [
       "array([ 0.,  1.,  2.,  3.,  4.,  5.,  6.,  7.,  8.,  9., 10., 11., 12.,\n",
       "       13., 14., 15., 16., 17., 18., 19., 20., 21., 22., 23., 24., 25.,\n",
       "       26., 27., 28., 29., 30., 31., 32., 33., 34., 35., 36., 37., 38.,\n",
       "       39., 40., 41., 42., 43., 44., 45., 46., 47., 48., 49., 50., 51.,\n",
       "       52., 53., 54., 55., 56., 57., 58., 59., 60., 61., 62., 63., 64.,\n",
       "       65., 66., 67., 68., 69., 70., 71., 72., 73., 74., 75., 76., 77.,\n",
       "       78., 79., 80., 81., 82., 83., 84., 85., 86., 87., 88., 89., 90.,\n",
       "       91., 92., 93., 94., 95., 96., 97., 98., 99.])"
      ]
     },
     "execution_count": 10,
     "metadata": {},
     "output_type": "execute_result"
    }
   ],
   "source": [
    "# the numpy version of range allows \n",
    "# decimals\n",
    "# np.arange(start,end,step_size)\n",
    "np.arange(0,1e+2,1)"
   ]
  },
  {
   "cell_type": "code",
   "execution_count": 11,
   "metadata": {},
   "outputs": [],
   "source": [
    "# make a 2d grid\n",
    "interval = np.linspace(-2,2,100)\n",
    "#print(interval)\n",
    "# meshgrid takes in two intervals as arguments\n",
    "# it outputs two arrays that give every x,y\n",
    "# pair from the two intervals you enter\n",
    "xs,ys = np.meshgrid(interval,interval)\n",
    "#print(xs)\n",
    "# useful for calculations\n",
    "z = xs ** 2 + ys**2\n",
    "#print(z)"
   ]
  },
  {
   "cell_type": "code",
   "execution_count": 12,
   "metadata": {},
   "outputs": [
    {
     "data": {
      "image/png": "[encoded data removed]",
      "text/plain": [
       "<Figure size 1000x1000 with 2 Axes>"
      ]
     },
     "metadata": {},
     "output_type": "display_data"
    }
   ],
   "source": [
    "# A sample plot using meshgrid\n",
    "import matplotlib.pyplot as plt\n",
    "plt.figure(figsize=(10,10))\n",
    "plt.imshow(z,cmap=plt.cm.plasma)\n",
    "plt.colorbar()\n",
    "plt.title(\"Image of $x^2 + y^2$ for a grid of values\")\n",
    "plt.show()"
   ]
  },
  {
   "cell_type": "code",
   "execution_count": 13,
   "metadata": {},
   "outputs": [
    {
     "name": "stdout",
     "output_type": "stream",
     "text": [
      "[-1.         -0.95959596 -0.91919192 -0.87878788 -0.83838384 -0.7979798\n",
      " -0.75757576 -0.71717172 -0.67676768 -0.63636364 -0.5959596  -0.55555556\n",
      " -0.51515152 -0.47474747 -0.43434343 -0.39393939 -0.35353535 -0.31313131\n",
      " -0.27272727 -0.23232323 -0.19191919 -0.15151515 -0.11111111 -0.07070707\n",
      " -0.03030303  0.01010101  0.05050505  0.09090909  0.13131313  0.17171717\n",
      "  0.21212121  0.25252525  0.29292929  0.33333333  0.37373737  0.41414141\n",
      "  0.45454545  0.49494949  0.53535354  0.57575758  0.61616162  0.65656566\n",
      "  0.6969697   0.73737374  0.77777778  0.81818182  0.85858586  0.8989899\n",
      "  0.93939394  0.97979798  1.02020202  1.06060606  1.1010101   1.14141414\n",
      "  1.18181818  1.22222222  1.26262626  1.3030303   1.34343434  1.38383838\n",
      "  1.42424242  1.46464646  1.50505051  1.54545455  1.58585859  1.62626263\n",
      "  1.66666667  1.70707071  1.74747475  1.78787879  1.82828283  1.86868687\n",
      "  1.90909091  1.94949495  1.98989899  2.03030303  2.07070707  2.11111111\n",
      "  2.15151515  2.19191919  2.23232323  2.27272727  2.31313131  2.35353535\n",
      "  2.39393939  2.43434343  2.47474747  2.51515152  2.55555556  2.5959596\n",
      "  2.63636364  2.67676768  2.71717172  2.75757576  2.7979798   2.83838384\n",
      "  2.87878788  2.91919192  2.95959596  3.        ]\n"
     ]
    }
   ],
   "source": [
    "## Practice\n",
    "## Using np.linspace make an interval from -1 to 3\n",
    "## store it in x\n",
    "x=np.linspace(-1,3,100)\n",
    "print(x)\n",
    "\n"
   ]
  },
  {
   "cell_type": "markdown",
   "metadata": {},
   "source": [
    "#### Indexing or Slicing an ndarray\n",
    "\n",
    "Just like with lists, pandas DataFrames, or any other data structure you may want to access particular elements or subsets of an ndarray. Let's see how to do that below."
   ]
  },
  {
   "cell_type": "code",
   "execution_count": 14,
   "metadata": {},
   "outputs": [
    {
     "name": "stdout",
     "output_type": "stream",
     "text": [
      "[[ 0.48440893  0.88635619]\n",
      " [ 0.30164187 -0.9521203 ]\n",
      " [-0.80452209 -0.69045582]\n",
      " [ 0.84057403  0.89912594]\n",
      " [-0.16987059  0.89955845]\n",
      " [ 0.31920492  0.14699417]\n",
      " [-0.47582778  0.7471289 ]\n",
      " [-0.80465086 -0.2863886 ]\n",
      " [-0.48205244 -0.36786864]\n",
      " [-0.25101167  0.73508789]\n",
      " [-0.70535535  0.38355261]\n",
      " [-0.21136924  0.54172061]\n",
      " [ 0.80245105  0.5027384 ]\n",
      " [ 0.80163705  0.37254812]\n",
      " [-0.57191289 -0.36145008]\n",
      " [-0.08517245 -0.34227453]\n",
      " [-0.29225835  0.39342962]\n",
      " [ 0.77641465  0.61961273]\n",
      " [ 0.6747142   0.65140008]\n",
      " [ 0.83890539 -0.09876571]\n",
      " [-0.3451554   0.95888879]\n",
      " [ 0.63506545  0.57224866]\n",
      " [-0.38376595  0.02115014]\n",
      " [ 0.05973729  0.31909028]\n",
      " [ 0.59391894  0.66349018]\n",
      " [-0.462664   -0.85176294]\n",
      " [ 0.7830362  -0.25956878]\n",
      " [ 0.8168839  -0.91071921]\n",
      " [ 0.28961775  0.23236589]\n",
      " [-0.71643894 -0.52168399]\n",
      " [-0.10785689  0.89115906]\n",
      " [-0.43284489 -0.22131642]\n",
      " [-0.21331206 -0.55090051]\n",
      " [-0.99681148 -0.00988293]\n",
      " [ 0.01203907  0.57305338]\n",
      " [-0.20080102 -0.60752527]\n",
      " [ 0.24574909 -0.91964059]\n",
      " [ 0.35845253  0.08748426]\n",
      " [ 0.02409912 -0.29776973]\n",
      " [ 0.55170286  0.30083816]\n",
      " [-0.86258177  0.5619146 ]\n",
      " [-0.21869977  0.8747585 ]\n",
      " [ 0.22763333  0.79221102]\n",
      " [-0.30119546  0.49606816]\n",
      " [-0.60371207  0.71445455]\n",
      " [ 0.18600236 -0.47559472]\n",
      " [-0.17914677 -0.49887641]\n",
      " [ 0.67523182  0.53193855]\n",
      " [-0.7870506  -0.23705669]\n",
      " [ 0.55956844 -0.67416849]]\n"
     ]
    }
   ],
   "source": [
    "# a is a random 50 by 2 array\n",
    "# more on random arrays in a bit\n",
    "a = 2*np.random.random((50,2)) - 1\n",
    "print(a)"
   ]
  },
  {
   "cell_type": "code",
   "execution_count": 15,
   "metadata": {},
   "outputs": [
    {
     "name": "stdout",
     "output_type": "stream",
     "text": [
      "-0.9521202969544551\n",
      "\n",
      "[-0.16987059  0.89955845]\n",
      "\n",
      "[ 0.48440893  0.30164187 -0.80452209  0.84057403 -0.16987059  0.31920492\n",
      " -0.47582778 -0.80465086 -0.48205244 -0.25101167 -0.70535535 -0.21136924\n",
      "  0.80245105  0.80163705 -0.57191289 -0.08517245 -0.29225835  0.77641465\n",
      "  0.6747142   0.83890539 -0.3451554   0.63506545 -0.38376595  0.05973729\n",
      "  0.59391894 -0.462664    0.7830362   0.8168839   0.28961775 -0.71643894\n",
      " -0.10785689 -0.43284489 -0.21331206 -0.99681148  0.01203907 -0.20080102\n",
      "  0.24574909  0.35845253  0.02409912  0.55170286 -0.86258177 -0.21869977\n",
      "  0.22763333 -0.30119546 -0.60371207  0.18600236 -0.17914677  0.67523182\n",
      " -0.7870506   0.55956844]\n"
     ]
    }
   ],
   "source": [
    "# I can get an individual entry like so\n",
    "# the 1 row and 1 column entry\n",
    "print(a[1,1])\n",
    "print()\n",
    "# the entire 4th row\n",
    "print(a[4,:])\n",
    "print()\n",
    "# The entire 0th column\n",
    "# note despite being a column it is output as a row vector\n",
    "print(a[:,0])"
   ]
  },
  {
   "cell_type": "code",
   "execution_count": 16,
   "metadata": {},
   "outputs": [
    {
     "data": {
      "text/plain": [
       "array([[ 0.30164187, -0.9521203 ],\n",
       "       [-0.80452209, -0.69045582],\n",
       "       [ 0.84057403,  0.89912594]])"
      ]
     },
     "execution_count": 16,
     "metadata": {},
     "output_type": "execute_result"
    }
   ],
   "source": [
    "# You can get a slice of a as well\n",
    "# the 1 through 4 rows\n",
    "a[1:4,:]"
   ]
  },
  {
   "cell_type": "code",
   "execution_count": 17,
   "metadata": {},
   "outputs": [
    {
     "data": {
      "text/plain": [
       "array([0.48440893, 0.88635619, 0.30164187, 0.84057403, 0.89912594,\n",
       "       0.89955845, 0.31920492, 0.14699417, 0.7471289 , 0.73508789,\n",
       "       0.38355261, 0.54172061, 0.80245105, 0.5027384 , 0.80163705,\n",
       "       0.37254812, 0.39342962, 0.77641465, 0.61961273, 0.6747142 ,\n",
       "       0.65140008, 0.83890539, 0.95888879, 0.63506545, 0.57224866,\n",
       "       0.02115014, 0.05973729, 0.31909028, 0.59391894, 0.66349018,\n",
       "       0.7830362 , 0.8168839 , 0.28961775, 0.23236589, 0.89115906,\n",
       "       0.01203907, 0.57305338, 0.24574909, 0.35845253, 0.08748426,\n",
       "       0.02409912, 0.55170286, 0.30083816, 0.5619146 , 0.8747585 ,\n",
       "       0.22763333, 0.79221102, 0.49606816, 0.71445455, 0.18600236,\n",
       "       0.67523182, 0.53193855, 0.55956844])"
      ]
     },
     "execution_count": 17,
     "metadata": {},
     "output_type": "execute_result"
    }
   ],
   "source": [
    "# You can index by logical conditions\n",
    "# Every entry of a where a is positive\n",
    "# Returned as a 1d array\n",
    "a[a>0]"
   ]
  },
  {
   "cell_type": "code",
   "execution_count": 18,
   "metadata": {},
   "outputs": [
    {
     "data": {
      "text/plain": [
       "array([[ 0.30164187, -0.9521203 ],\n",
       "       [ 0.83890539, -0.09876571],\n",
       "       [ 0.7830362 , -0.25956878],\n",
       "       [ 0.8168839 , -0.91071921],\n",
       "       [ 0.24574909, -0.91964059],\n",
       "       [ 0.02409912, -0.29776973],\n",
       "       [ 0.18600236, -0.47559472],\n",
       "       [ 0.55956844, -0.67416849]])"
      ]
     },
     "execution_count": 18,
     "metadata": {},
     "output_type": "execute_result"
    }
   ],
   "source": [
    "# Only rows where the 0th columns is positive\n",
    "# and the 1 column is negative\n",
    "a[(a[:,0]>0) & (a[:,1] <0),:]"
   ]
  },
  {
   "cell_type": "code",
   "execution_count": 19,
   "metadata": {},
   "outputs": [
    {
     "data": {
      "text/plain": [
       "array([[ 0.48440893,  0.88635619],\n",
       "       [-0.80452209, -0.69045582],\n",
       "       [ 0.84057403,  0.89912594],\n",
       "       [-0.16987059,  0.89955845],\n",
       "       [-0.47582778,  0.7471289 ],\n",
       "       [-0.80465086, -0.2863886 ],\n",
       "       [-0.48205244, -0.36786864],\n",
       "       [-0.25101167,  0.73508789],\n",
       "       [-0.70535535,  0.38355261],\n",
       "       [-0.21136924,  0.54172061],\n",
       "       [ 0.80245105,  0.5027384 ],\n",
       "       [ 0.80163705,  0.37254812],\n",
       "       [-0.57191289, -0.36145008],\n",
       "       [-0.08517245, -0.34227453],\n",
       "       [-0.29225835,  0.39342962],\n",
       "       [ 0.77641465,  0.61961273],\n",
       "       [ 0.6747142 ,  0.65140008],\n",
       "       [-0.3451554 ,  0.95888879],\n",
       "       [ 0.63506545,  0.57224866],\n",
       "       [-0.38376595,  0.02115014],\n",
       "       [ 0.05973729,  0.31909028],\n",
       "       [ 0.59391894,  0.66349018],\n",
       "       [-0.462664  , -0.85176294],\n",
       "       [-0.71643894, -0.52168399],\n",
       "       [-0.10785689,  0.89115906],\n",
       "       [-0.43284489, -0.22131642],\n",
       "       [-0.21331206, -0.55090051],\n",
       "       [-0.99681148, -0.00988293],\n",
       "       [ 0.01203907,  0.57305338],\n",
       "       [-0.20080102, -0.60752527],\n",
       "       [ 0.24574909, -0.91964059],\n",
       "       [ 0.02409912, -0.29776973],\n",
       "       [ 0.55170286,  0.30083816],\n",
       "       [-0.86258177,  0.5619146 ],\n",
       "       [-0.21869977,  0.8747585 ],\n",
       "       [ 0.22763333,  0.79221102],\n",
       "       [-0.30119546,  0.49606816],\n",
       "       [-0.60371207,  0.71445455],\n",
       "       [ 0.18600236, -0.47559472],\n",
       "       [-0.17914677, -0.49887641],\n",
       "       [ 0.67523182,  0.53193855],\n",
       "       [-0.7870506 , -0.23705669]])"
      ]
     },
     "execution_count": 19,
     "metadata": {},
     "output_type": "execute_result"
    }
   ],
   "source": [
    "## Practice\n",
    "## Find all rows where the 1 column is greater than .25\n",
    "## or the 0 column is less than .25\n",
    "a[(a[:,1]>0.25)|(a[:,0]<0.25),:]\n",
    "\n",
    "\n",
    "\n",
    "\n",
    "\n"
   ]
  },
  {
   "cell_type": "markdown",
   "metadata": {},
   "source": [
    "### Functions on ndarrays\n",
    "\n",
    "ndarrays are nice because unlike base `python` lists and arrays `numpy` has been designed to allow very fast elementwise operations."
   ]
  },
  {
   "cell_type": "code",
   "execution_count": 20,
   "metadata": {},
   "outputs": [
    {
     "data": {
      "text/plain": [
       "[1, 2, 2, 3]"
      ]
     },
     "execution_count": 20,
     "metadata": {},
     "output_type": "execute_result"
    }
   ],
   "source": [
    "## Practice\n",
    "## What happens here\n",
    "[1,2] + [2,3]\n",
    "#concatenates the array (appends new elements)"
   ]
  },
  {
   "cell_type": "code",
   "execution_count": 21,
   "metadata": {},
   "outputs": [
    {
     "data": {
      "text/plain": [
       "array([3, 5])"
      ]
     },
     "execution_count": 21,
     "metadata": {},
     "output_type": "execute_result"
    }
   ],
   "source": [
    "## What about here?\n",
    "np.array([1,2]) + np.array([2,3])\n",
    "#adds the arrays logically, element-wise addition"
   ]
  },
  {
   "cell_type": "code",
   "execution_count": 22,
   "metadata": {},
   "outputs": [
    {
     "data": {
      "text/plain": [
       "[3, 4, 3, 4]"
      ]
     },
     "execution_count": 22,
     "metadata": {},
     "output_type": "execute_result"
    }
   ],
   "source": [
    "## What happens here\n",
    "2 * [3,4]\n",
    "#appends the array with the same array"
   ]
  },
  {
   "cell_type": "code",
   "execution_count": 23,
   "metadata": {},
   "outputs": [
    {
     "data": {
      "text/plain": [
       "array([6, 8])"
      ]
     },
     "execution_count": 23,
     "metadata": {},
     "output_type": "execute_result"
    }
   ],
   "source": [
    "## What about here?\n",
    "2*np.array([3,4])\n",
    "#multiplies the array element-wise logically"
   ]
  },
  {
   "cell_type": "code",
   "execution_count": 24,
   "metadata": {},
   "outputs": [
    {
     "name": "stdout",
     "output_type": "stream",
     "text": [
      "[1, 2, 3, 1, 2, 3, 1, 2, 3, 2]\n"
     ]
    }
   ],
   "source": [
    "# Okay how about\n",
    "y = 3*[1,2,3] + [2]\n",
    "print(y)"
   ]
  },
  {
   "cell_type": "code",
   "execution_count": 25,
   "metadata": {},
   "outputs": [
    {
     "name": "stdout",
     "output_type": "stream",
     "text": [
      "[3 4 5]\n"
     ]
    }
   ],
   "source": [
    "# and this?\n",
    "y = np.array([1,2,3]) + 2\n",
    "print(y)"
   ]
  },
  {
   "cell_type": "code",
   "execution_count": 26,
   "metadata": {},
   "outputs": [
    {
     "data": {
      "text/plain": [
       "array([1.        , 0.95959596, 0.91919192, 0.87878788, 0.83838384,\n",
       "       0.7979798 , 0.75757576, 0.71717172, 0.67676768, 0.63636364,\n",
       "       0.5959596 , 0.55555556, 0.51515152, 0.47474747, 0.43434343,\n",
       "       0.39393939, 0.35353535, 0.31313131, 0.27272727, 0.23232323,\n",
       "       0.19191919, 0.15151515, 0.11111111, 0.07070707, 0.03030303,\n",
       "       0.01010101, 0.05050505, 0.09090909, 0.13131313, 0.17171717,\n",
       "       0.21212121, 0.25252525, 0.29292929, 0.33333333, 0.37373737,\n",
       "       0.41414141, 0.45454545, 0.49494949, 0.53535354, 0.57575758,\n",
       "       0.61616162, 0.65656566, 0.6969697 , 0.73737374, 0.77777778,\n",
       "       0.81818182, 0.85858586, 0.8989899 , 0.93939394, 0.97979798,\n",
       "       1.02020202, 1.06060606, 1.1010101 , 1.14141414, 1.18181818,\n",
       "       1.22222222, 1.26262626, 1.3030303 , 1.34343434, 1.38383838,\n",
       "       1.42424242, 1.46464646, 1.50505051, 1.54545455, 1.58585859,\n",
       "       1.62626263, 1.66666667, 1.70707071, 1.74747475, 1.78787879,\n",
       "       1.82828283, 1.86868687, 1.90909091, 1.94949495, 1.98989899,\n",
       "       2.03030303, 2.07070707, 2.11111111, 2.15151515, 2.19191919,\n",
       "       2.23232323, 2.27272727, 2.31313131, 2.35353535, 2.39393939,\n",
       "       2.43434343, 2.47474747, 2.51515152, 2.55555556, 2.5959596 ,\n",
       "       2.63636364, 2.67676768, 2.71717172, 2.75757576, 2.7979798 ,\n",
       "       2.83838384, 2.87878788, 2.91919192, 2.95959596, 3.        ])"
      ]
     },
     "execution_count": 26,
     "metadata": {},
     "output_type": "execute_result"
    }
   ],
   "source": [
    "# There are even a number of popular\n",
    "# built in math functions for ndarray\n",
    "# absolute value\n",
    "# This is the x from your earlier practice block\n",
    "np.abs(x)"
   ]
  },
  {
   "cell_type": "code",
   "execution_count": 27,
   "metadata": {},
   "outputs": [
    {
     "data": {
      "text/plain": [
       "array([1.        , 0.97958969, 0.95874497, 0.93743687, 0.91563303,\n",
       "       0.89329715, 0.87038828, 0.84685992, 0.82265891, 0.79772404,\n",
       "       0.77198419, 0.74535599, 0.71774056, 0.68901921, 0.65904737,\n",
       "       0.62764591, 0.59458839, 0.55958137, 0.52223297, 0.4819992 ,\n",
       "       0.43808583, 0.38924947, 0.33333333, 0.26590801, 0.17407766,\n",
       "       0.10050378, 0.22473329, 0.30151134, 0.36237154, 0.41438771,\n",
       "       0.46056619, 0.50251891, 0.54122943, 0.57735027, 0.61134064,\n",
       "       0.6435382 , 0.67419986, 0.70352647, 0.73167857, 0.75878691,\n",
       "       0.78495963, 0.81028739, 0.83484711, 0.85870469, 0.8819171 ,\n",
       "       0.90453403, 0.92659908, 0.94815078, 0.96922337, 0.98984745,\n",
       "       1.0100505 , 1.0298573 , 1.04929028, 1.06836985, 1.08711461,\n",
       "       1.1055416 , 1.12366644, 1.14150353, 1.15906615, 1.1763666 ,\n",
       "       1.19341628, 1.21022579, 1.226805  , 1.24316312, 1.25930877,\n",
       "       1.27525003, 1.29099445, 1.30654916, 1.32192086, 1.33711585,\n",
       "       1.35214009, 1.36699922, 1.38169856, 1.39624316, 1.4106378 ,\n",
       "       1.42488702, 1.43899516, 1.45296631, 1.4668044 , 1.48051315,\n",
       "       1.49409613, 1.50755672, 1.52089819, 1.53412364, 1.54723605,\n",
       "       1.56023826, 1.57313301, 1.58592292, 1.59861051, 1.61119819,\n",
       "       1.62368828, 1.63608303, 1.64838458, 1.660595  , 1.67271629,\n",
       "       1.68475038, 1.69669911, 1.70856429, 1.72034763, 1.73205081])"
      ]
     },
     "execution_count": 27,
     "metadata": {},
     "output_type": "execute_result"
    }
   ],
   "source": [
    "# square root\n",
    "np.sqrt(np.abs(x))"
   ]
  },
  {
   "cell_type": "code",
   "execution_count": 28,
   "metadata": {},
   "outputs": [
    {
     "data": {
      "text/plain": [
       "array([-1., -1., -1., -1., -1., -1., -1., -1., -1., -1., -1., -1., -1.,\n",
       "       -1., -1., -1., -1., -1., -1., -1., -1., -1., -1., -1., -1.,  0.,\n",
       "        0.,  0.,  0.,  0.,  0.,  0.,  0.,  0.,  0.,  0.,  0.,  0.,  0.,\n",
       "        0.,  0.,  0.,  0.,  0.,  0.,  0.,  0.,  0.,  0.,  0.,  1.,  1.,\n",
       "        1.,  1.,  1.,  1.,  1.,  1.,  1.,  1.,  1.,  1.,  1.,  1.,  1.,\n",
       "        1.,  1.,  1.,  1.,  1.,  1.,  1.,  1.,  1.,  1.,  2.,  2.,  2.,\n",
       "        2.,  2.,  2.,  2.,  2.,  2.,  2.,  2.,  2.,  2.,  2.,  2.,  2.,\n",
       "        2.,  2.,  2.,  2.,  2.,  2.,  2.,  2.,  3.])"
      ]
     },
     "execution_count": 28,
     "metadata": {},
     "output_type": "execute_result"
    }
   ],
   "source": [
    "# the floor function\n",
    "np.floor(x)"
   ]
  },
  {
   "cell_type": "code",
   "execution_count": 29,
   "metadata": {},
   "outputs": [
    {
     "name": "stdout",
     "output_type": "stream",
     "text": [
      "[  8.08220328   8.36645545   8.66284401   8.97186878   9.29404979\n",
      "   9.62992798   9.98006607  10.34504935  10.72548653  11.1220106\n",
      "  11.53527975  11.96597827  12.41481748  12.8825367   13.36990417\n",
      "  13.87771805  14.40680741  14.95803318  15.53228908  16.13050262\n",
      "  16.75363594  17.40268666  18.07868865  18.78271266  19.51586681\n",
      "  20.2994996   21.17528248  22.0840776   23.02741483  24.00687136\n",
      "  25.0240756   26.08071105  27.17851996  28.31930697  29.50494275\n",
      "  30.73736765  32.01859527  33.35071626  34.73590203  36.1764086\n",
      "  37.67458057  39.23285517  40.85376642  42.53994947  44.29414501\n",
      "  46.11920391  48.018092    49.99389495  52.04982348  54.18921861\n",
      "  56.41555723  58.73245782  61.14368641  63.65316277  66.26496689\n",
      "  68.98334561  71.81271968  74.75769091  77.82304978  81.01378326\n",
      "  84.33508298  87.79235369  91.39122217  95.13754637  99.03742502\n",
      " 103.09720759 107.32350465 111.72319872 116.30345546 121.07173542\n",
      " 126.03580619 131.20375512 136.58400251 142.18531539 148.01682179\n",
      " 154.08802568 160.4088225  166.98951528 173.84083151 180.97394062\n",
      " 188.40047223 196.13253516 204.18273714 212.5642055  221.29060848\n",
      " 230.37617764 239.83573108 249.68469757 259.93914184 270.61579073\n",
      " 281.73206052 293.3060854  305.35674703 317.90370541 330.96743092\n",
      " 344.56923782 358.73131899 373.47678217 388.82968771 404.81508785]\n"
     ]
    }
   ],
   "source": [
    "## Practice\n",
    "## using np.exp define y to be \n",
    "## e^(x+3) + log(|x|+1)\n",
    "\n",
    "y=np.array(np.exp(np.array(x)+3))+np.array(np.log(np.array(np.abs(x))+1))\n",
    "print(y)\n",
    "\n",
    "\n"
   ]
  },
  {
   "cell_type": "markdown",
   "metadata": {},
   "source": [
    "### Pseudorandom ndarrays and Stat Functions\n",
    "\n",
    "`numpy` is useful for generating random numbers as well. We can look at common statistics of arrays too."
   ]
  },
  {
   "cell_type": "code",
   "execution_count": 30,
   "metadata": {},
   "outputs": [
    {
     "data": {
      "text/plain": [
       "0.5118269034622398"
      ]
     },
     "execution_count": 30,
     "metadata": {},
     "output_type": "execute_result"
    }
   ],
   "source": [
    "# random generators are stored in np.random\n",
    "# a np.random.random() gives a uniform random number in [0,1]\n",
    "np.random.random()"
   ]
  },
  {
   "cell_type": "code",
   "execution_count": 31,
   "metadata": {},
   "outputs": [
    {
     "name": "stdout",
     "output_type": "stream",
     "text": [
      "1.4093633886520034\n",
      "\n"
     ]
    },
    {
     "data": {
      "text/plain": [
       "array([[ 0.14014122,  0.77549264],\n",
       "       [-2.05066196,  0.83596479],\n",
       "       [ 1.34970376,  0.08785022],\n",
       "       [-1.75559678, -1.48630066],\n",
       "       [ 0.0038732 , -0.07595357],\n",
       "       [-1.75883124,  0.03154154],\n",
       "       [-0.4394762 , -1.03177308],\n",
       "       [-0.99097726, -0.28952667],\n",
       "       [-0.69473454,  0.12973728],\n",
       "       [ 0.97564359,  2.32121626]])"
      ]
     },
     "execution_count": 31,
     "metadata": {},
     "output_type": "execute_result"
    }
   ],
   "source": [
    "# np.random.randn() is a normal distribution (0,1) number\n",
    "# a single draw\n",
    "print(np.random.randn())\n",
    "print()\n",
    "\n",
    "# an array of draws\n",
    "np.random.randn(10,2)"
   ]
  },
  {
   "cell_type": "code",
   "execution_count": 32,
   "metadata": {},
   "outputs": [
    {
     "data": {
      "text/plain": [
       "array([[1, 1, 1, 0, 0, 1, 2, 0, 1, 3],\n",
       "       [2, 0, 0, 0, 1, 2, 2, 1, 1, 2],\n",
       "       [0, 0, 2, 1, 1, 1, 1, 2, 1, 2],\n",
       "       [0, 3, 0, 2, 1, 1, 2, 1, 0, 0],\n",
       "       [1, 1, 0, 0, 2, 2, 0, 2, 3, 2],\n",
       "       [1, 0, 3, 2, 1, 1, 1, 0, 1, 1],\n",
       "       [0, 3, 3, 1, 1, 1, 1, 1, 2, 0],\n",
       "       [1, 1, 1, 3, 2, 1, 0, 2, 1, 1],\n",
       "       [0, 3, 1, 3, 1, 3, 1, 0, 0, 3],\n",
       "       [2, 1, 1, 2, 1, 0, 1, 1, 3, 2]])"
      ]
     },
     "execution_count": 32,
     "metadata": {},
     "output_type": "execute_result"
    }
   ],
   "source": [
    "# np.random.binomial()\n",
    "# an array of binomial(n,p) outcomes\n",
    "np.random.binomial(n=4,p=.3,size=(10,10))"
   ]
  },
  {
   "cell_type": "code",
   "execution_count": 33,
   "metadata": {},
   "outputs": [
    {
     "name": "stdout",
     "output_type": "stream",
     "text": [
      "[[ 0.95227544 -0.4089076   0.27664899]\n",
      " [ 0.80339736  1.99172081 -0.73433113]\n",
      " [ 0.58176163 -1.84957321  0.40829365]\n",
      " [ 0.56534257 -1.24786746  0.39467177]\n",
      " [-0.96682991  0.84480125  0.78663454]\n",
      " [ 0.50848808  0.81141613  0.14313014]\n",
      " [ 0.34209685 -0.08142864  2.06606516]\n",
      " [-0.55345839  2.13184422 -0.41046904]\n",
      " [ 0.30867539  1.32450179 -0.0936288 ]\n",
      " [-0.00325816 -0.31475483  0.37420797]\n",
      " [ 0.11781466  0.61286298 -1.79338998]\n",
      " [-1.94617271  2.5235853   1.14866944]\n",
      " [ 0.65342418  0.71478108  1.38174747]\n",
      " [ 1.2260603   0.35921693 -0.12013473]\n",
      " [ 0.18719971 -0.52174693  0.88977042]\n",
      " [-0.52514771 -1.93895781 -0.18445208]\n",
      " [ 0.44356626  0.53813636 -1.29133302]\n",
      " [ 1.39396408 -0.88560202  0.07568814]\n",
      " [ 1.52322531  1.46123937 -0.12142927]\n",
      " [ 0.13596386 -0.44173703  0.30368877]]\n"
     ]
    }
   ],
   "source": [
    "## Practice\n",
    "# make a 20 by 3 2darray of random normal draws\n",
    "# call it X\n",
    "X = np.random.randn(20,3)\n",
    "print(X)\n",
    "\n",
    "\n",
    "\n"
   ]
  },
  {
   "cell_type": "code",
   "execution_count": 34,
   "metadata": {},
   "outputs": [
    {
     "name": "stdout",
     "output_type": "stream",
     "text": [
      "0.2478661315879392\n",
      "\n",
      "[0.28741944 0.28117653 0.17500242]\n",
      "\n",
      "[ 2.73338942e-01  6.86929014e-01 -2.86505978e-01 -9.59510385e-02\n",
      "  2.21535290e-01  4.87678117e-01  7.75577792e-01  3.89305599e-01\n",
      "  5.13182792e-01  1.87316580e-02 -3.54237448e-01  5.75360680e-01\n",
      "  9.16650908e-01  4.88380833e-01  1.85074402e-01 -8.82852534e-01\n",
      " -1.03210133e-01  1.94683400e-01  9.54345136e-01 -6.94799103e-04]\n"
     ]
    }
   ],
   "source": [
    "# We can use np.mean to get the overall\n",
    "# array mean\n",
    "print(np.mean(X))\n",
    "print()\n",
    "\n",
    "# or the row mean\n",
    "print(np.mean(X,axis=0))\n",
    "print()\n",
    "\n",
    "# or the column mean\n",
    "# again output as a row vector\n",
    "print(np.mean(X,axis=1))"
   ]
  },
  {
   "cell_type": "markdown",
   "metadata": {},
   "source": [
    "Other common functions are `np.std()` for standard deviation, `np.sum()` for sum, `np.var()` for variance, `np.min()` for min, `np.max()` for max, `np.argmin()` for where the min occurs, `np.argmax()` for where the max occurs."
   ]
  },
  {
   "cell_type": "code",
   "execution_count": 35,
   "metadata": {},
   "outputs": [
    {
     "name": "stdout",
     "output_type": "stream",
     "text": [
      "the max in each column is at  [18 11  6]\n"
     ]
    }
   ],
   "source": [
    "## Practice\n",
    "## where does the max value occur in each column of X?\n",
    "max_args=np.argmax(X,axis=0)\n",
    "print(\"the max in each column is at \",np.argmax(X,axis=0))\n",
    "\n",
    "\n",
    "\n"
   ]
  },
  {
   "cell_type": "code",
   "execution_count": 36,
   "metadata": {},
   "outputs": [
    {
     "name": "stdout",
     "output_type": "stream",
     "text": [
      "[0.17573301 0.62066751 0.11963187 0.35550282 0.39060332 0.184814\n",
      " 0.79518463 0.61278681 0.01563062 0.87765111]\n",
      "[0.17573301 0.79640051 0.91603239 1.2715352  1.66213852 1.84695252\n",
      " 2.64213715 3.25492396 3.27055458 4.14820568]\n"
     ]
    }
   ],
   "source": [
    "# Another useful function is np.cumsum()\n",
    "x = np.random.random(10)\n",
    "print(x)\n",
    "np.cumsum(x)\n",
    "print(np.cumsum(x))\n",
    "#sums like an intergral \n",
    "# What do you think it does?"
   ]
  },
  {
   "cell_type": "markdown",
   "metadata": {},
   "source": [
    "### Linear Algebra with `numpy`\n",
    "\n",
    "A final important use for us is `numpy` as a way to perform linear algebra calculations."
   ]
  },
  {
   "cell_type": "code",
   "execution_count": 37,
   "metadata": {},
   "outputs": [
    {
     "data": {
      "text/plain": [
       "array([[3, 2],\n",
       "       [1, 2]])"
      ]
     },
     "execution_count": 37,
     "metadata": {},
     "output_type": "execute_result"
    }
   ],
   "source": [
    "# We can think of a 2D array as a matrix\n",
    "A = np.random.binomial(n=4,p=.3,size=(2,2))\n",
    "\n",
    "A"
   ]
  },
  {
   "cell_type": "code",
   "execution_count": 38,
   "metadata": {},
   "outputs": [
    {
     "data": {
      "text/plain": [
       "array([1, 2])"
      ]
     },
     "execution_count": 38,
     "metadata": {},
     "output_type": "execute_result"
    }
   ],
   "source": [
    "# A 1d array can be a row vector\n",
    "x = np.array([1,2])\n",
    "x"
   ]
  },
  {
   "cell_type": "code",
   "execution_count": 39,
   "metadata": {},
   "outputs": [
    {
     "data": {
      "text/plain": [
       "array([[1],\n",
       "       [2]])"
      ]
     },
     "execution_count": 39,
     "metadata": {},
     "output_type": "execute_result"
    }
   ],
   "source": [
    "# or a column vector\n",
    "x.reshape(-1,1)"
   ]
  },
  {
   "cell_type": "code",
   "execution_count": 40,
   "metadata": {},
   "outputs": [
    {
     "data": {
      "text/plain": [
       "array([[7],\n",
       "       [5]])"
      ]
     },
     "execution_count": 40,
     "metadata": {},
     "output_type": "execute_result"
    }
   ],
   "source": [
    "# We can now calculate A*x\n",
    "# matrix.dot() is used for matrix mult\n",
    "A.dot(x.reshape(-1,1))"
   ]
  },
  {
   "cell_type": "code",
   "execution_count": 41,
   "metadata": {},
   "outputs": [
    {
     "name": "stdout",
     "output_type": "stream",
     "text": [
      "[[3 3 5]\n",
      " [5 1 1]\n",
      " [1 1 2]]\n",
      "[1. 1. 1.]\n"
     ]
    },
    {
     "data": {
      "text/plain": [
       "array([[11.],\n",
       "       [ 7.],\n",
       "       [ 4.]])"
      ]
     },
     "execution_count": 41,
     "metadata": {},
     "output_type": "execute_result"
    }
   ],
   "source": [
    "## Practice\n",
    "# Take the matrix B and multiply it with a column\n",
    "# vector of 1s\n",
    "B = np.random.binomial(n=5,p=.6,size=(3,3))\n",
    "print(B)\n",
    "x = np.ones(3)\n",
    "print(x)\n",
    "x.reshape(-1,1)\n",
    "B.dot(x.reshape(-1,1))\n",
    "\n",
    "\n",
    "\n"
   ]
  },
  {
   "cell_type": "code",
   "execution_count": 42,
   "metadata": {},
   "outputs": [],
   "source": [
    "# numpy.linalg contains a number of useful\n",
    "# matrix operations\n",
    "from numpy.linalg import inv, eig, det"
   ]
  },
  {
   "cell_type": "code",
   "execution_count": 43,
   "metadata": {},
   "outputs": [
    {
     "data": {
      "text/plain": [
       "array([[ 0.5 , -0.5 ],\n",
       "       [-0.25,  0.75]])"
      ]
     },
     "execution_count": 43,
     "metadata": {},
     "output_type": "execute_result"
    }
   ],
   "source": [
    "# the inverse of A\n",
    "inv(A)"
   ]
  },
  {
   "cell_type": "code",
   "execution_count": 44,
   "metadata": {},
   "outputs": [
    {
     "data": {
      "text/plain": [
       "4.000000000000001"
      ]
     },
     "execution_count": 44,
     "metadata": {},
     "output_type": "execute_result"
    }
   ],
   "source": [
    "# the det of A\n",
    "det(A)"
   ]
  },
  {
   "cell_type": "code",
   "execution_count": 45,
   "metadata": {},
   "outputs": [
    {
     "data": {
      "text/plain": [
       "(array([4., 1.]),\n",
       " array([[ 0.89442719, -0.70710678],\n",
       "        [ 0.4472136 ,  0.70710678]]))"
      ]
     },
     "execution_count": 45,
     "metadata": {},
     "output_type": "execute_result"
    }
   ],
   "source": [
    "# the eigenvalues and eigenvectors of A\n",
    "eig(A)"
   ]
  },
  {
   "cell_type": "code",
   "execution_count": 46,
   "metadata": {},
   "outputs": [
    {
     "data": {
      "text/plain": [
       "array([[3, 1],\n",
       "       [2, 2]])"
      ]
     },
     "execution_count": 46,
     "metadata": {},
     "output_type": "execute_result"
    }
   ],
   "source": [
    "# matrix.transpose() computes the transpose of the matrix\n",
    "A.transpose()"
   ]
  },
  {
   "cell_type": "code",
   "execution_count": 47,
   "metadata": {},
   "outputs": [
    {
     "name": "stdout",
     "output_type": "stream",
     "text": [
      "[[2]\n",
      " [5]]\n",
      "\n",
      "[[3 2]\n",
      " [1 2]]\n",
      "[[-1.5 ]\n",
      " [ 3.25]]\n"
     ]
    }
   ],
   "source": [
    "## Practice\n",
    "b = np.array([2,5]).reshape(-1,1)\n",
    "print(b)\n",
    "print()\n",
    "print(A)\n",
    "## Solve Ax = b for x\n",
    "x=inv(A).dot(b)\n",
    "print(x)"
   ]
  },
  {
   "cell_type": "markdown",
   "metadata": {},
   "source": [
    "That's it!\n",
    "\n",
    "You should now try to see if you can solve the numpy - Skill Check notebook."
   ]
  },
  {
   "cell_type": "code",
   "execution_count": null,
   "metadata": {},
   "outputs": [],
   "source": []
  }
 ],
 "metadata": {
  "kernelspec": {
   "display_name": "Python 3 (ipykernel)",
   "language": "python",
   "name": "python3"
  },
  "language_info": {
   "codemirror_mode": {
    "name": "ipython",
    "version": 3
   },
   "file_extension": ".py",
   "mimetype": "text/x-python",
   "name": "python",
   "nbconvert_exporter": "python",
   "pygments_lexer": "ipython3",
   "version": "3.9.13"
  }
 },
 "nbformat": 4,
 "nbformat_minor": 4
}
